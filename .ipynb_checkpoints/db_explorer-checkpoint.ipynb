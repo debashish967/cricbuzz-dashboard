{
 "cells": [
  {
   "cell_type": "code",
   "execution_count": 1,
   "id": "fd2af2bd-556a-439b-9cd9-42a6423bf425",
   "metadata": {},
   "outputs": [
    {
     "name": "stdout",
     "output_type": "stream",
     "text": [
      "DB path: C:\\Users\\susen\\Desktop\\CricbuzzProject\\cricbuzz.db\n"
     ]
    }
   ],
   "source": [
    "# Imports & DB path \n",
    "import sqlite3, os\n",
    "import pandas as pd\n",
    "\n",
    "DB_PATH = os.path.abspath(\"cricbuzz.db\")\n",
    "print(\"DB path:\", DB_PATH)\n",
    "\n",
    "# Helper: quick connect function\n",
    "def get_conn():\n",
    "    return sqlite3.connect(DB_PATH)"
   ]
  },
  {
   "cell_type": "code",
   "execution_count": 2,
   "id": "64f9f8c5-fb6d-4163-b688-c2c449f1bab8",
   "metadata": {},
   "outputs": [
    {
     "data": {
      "text/plain": [
       "[('live_matches',)]"
      ]
     },
     "execution_count": 2,
     "metadata": {},
     "output_type": "execute_result"
    }
   ],
   "source": [
    "# List tables\n",
    "#with get_conn() as conn:\n",
    "    tables = conn.execute(\"SELECT name FROM sqlite_master WHERE type='table'\").fetchall()\n",
    "tables"
   ]
  },
  {
   "cell_type": "code",
   "execution_count": 3,
   "id": "e91ab8a9-2567-4696-88c2-0b3292459674",
   "metadata": {},
   "outputs": [
    {
     "data": {
      "text/plain": [
       "[(0, 'match_id', 'TEXT', 0, None, 1),\n",
       " (1, 'series_name', 'TEXT', 0, None, 0),\n",
       " (2, 'team1', 'TEXT', 0, None, 0),\n",
       " (3, 'team2', 'TEXT', 0, None, 0),\n",
       " (4, 'status', 'TEXT', 0, None, 0)]"
      ]
     },
     "execution_count": 3,
     "metadata": {},
     "output_type": "execute_result"
    }
   ],
   "source": [
    "# See the schema of live_matches\n",
    "with get_conn() as conn:\n",
    "    schema = conn.execute(\"PRAGMA table_info(live_matches)\").fetchall()\n",
    "schema"
   ]
  },
  {
   "cell_type": "code",
   "execution_count": 4,
   "id": "bd4063f9-3f8d-4685-9e7e-141d13a73870",
   "metadata": {},
   "outputs": [
    {
     "data": {
      "text/html": [
       "<div>\n",
       "<style scoped>\n",
       "    .dataframe tbody tr th:only-of-type {\n",
       "        vertical-align: middle;\n",
       "    }\n",
       "\n",
       "    .dataframe tbody tr th {\n",
       "        vertical-align: top;\n",
       "    }\n",
       "\n",
       "    .dataframe thead th {\n",
       "        text-align: right;\n",
       "    }\n",
       "</style>\n",
       "<table border=\"1\" class=\"dataframe\">\n",
       "  <thead>\n",
       "    <tr style=\"text-align: right;\">\n",
       "      <th></th>\n",
       "      <th>match_id</th>\n",
       "      <th>series_name</th>\n",
       "      <th>team1</th>\n",
       "      <th>team2</th>\n",
       "      <th>status</th>\n",
       "    </tr>\n",
       "  </thead>\n",
       "  <tbody>\n",
       "    <tr>\n",
       "      <th>0</th>\n",
       "      <td>131119</td>\n",
       "      <td>Netherlands tour of Bangladesh 2025</td>\n",
       "      <td>Bangladesh</td>\n",
       "      <td>Netherlands</td>\n",
       "      <td>Rain stops play</td>\n",
       "    </tr>\n",
       "    <tr>\n",
       "      <th>1</th>\n",
       "      <td>122962</td>\n",
       "      <td>Sri Lanka tour of Zimbabwe, 2025</td>\n",
       "      <td>Zimbabwe</td>\n",
       "      <td>Sri Lanka</td>\n",
       "      <td>Sri Lanka won by 4 wkts</td>\n",
       "    </tr>\n",
       "    <tr>\n",
       "      <th>2</th>\n",
       "      <td>130762</td>\n",
       "      <td>Kerala Cricket League 2025</td>\n",
       "      <td>Aries Kollam Sailors</td>\n",
       "      <td>Kochi Blue Tigers</td>\n",
       "      <td>Innings Break</td>\n",
       "    </tr>\n",
       "    <tr>\n",
       "      <th>3</th>\n",
       "      <td>130756</td>\n",
       "      <td>Kerala Cricket League 2025</td>\n",
       "      <td>Adani Trivandrum Royals</td>\n",
       "      <td>Alleppey Ripples</td>\n",
       "      <td>Adani Trivandrum Royals won by 110 runs</td>\n",
       "    </tr>\n",
       "    <tr>\n",
       "      <th>4</th>\n",
       "      <td>132632</td>\n",
       "      <td>Uttar Pradesh Premier League 2025</td>\n",
       "      <td>Lucknow Falcons</td>\n",
       "      <td>Gaur Gorakhapur Lions</td>\n",
       "      <td>Lucknow Falcons opt to bat</td>\n",
       "    </tr>\n",
       "    <tr>\n",
       "      <th>5</th>\n",
       "      <td>132621</td>\n",
       "      <td>Uttar Pradesh Premier League 2025</td>\n",
       "      <td>Kashi Rudras</td>\n",
       "      <td>Meerut Mavericks</td>\n",
       "      <td>Kashi Rudras won by 5 runs</td>\n",
       "    </tr>\n",
       "    <tr>\n",
       "      <th>6</th>\n",
       "      <td>116489</td>\n",
       "      <td>New Zealand A tour of South Africa, 2025</td>\n",
       "      <td>South Africa A</td>\n",
       "      <td>New Zealand A</td>\n",
       "      <td>New Zealand A need 98 runs in 91 balls</td>\n",
       "    </tr>\n",
       "    <tr>\n",
       "      <th>7</th>\n",
       "      <td>131625</td>\n",
       "      <td>ICC Womens T20 World Cup Africa Region Divisio...</td>\n",
       "      <td>Nigeria Women</td>\n",
       "      <td>Zimbabwe Women</td>\n",
       "      <td>Nigeria Women opt to bat</td>\n",
       "    </tr>\n",
       "    <tr>\n",
       "      <th>8</th>\n",
       "      <td>131614</td>\n",
       "      <td>ICC Womens T20 World Cup Africa Region Divisio...</td>\n",
       "      <td>Kenya Women</td>\n",
       "      <td>Uganda Women</td>\n",
       "      <td>Uganda Women opt to bowl</td>\n",
       "    </tr>\n",
       "    <tr>\n",
       "      <th>9</th>\n",
       "      <td>131609</td>\n",
       "      <td>ICC Womens T20 World Cup Africa Region Divisio...</td>\n",
       "      <td>Namibia Women</td>\n",
       "      <td>Sierra Leone Women</td>\n",
       "      <td>Namibia Women won by 152 runs</td>\n",
       "    </tr>\n",
       "  </tbody>\n",
       "</table>\n",
       "</div>"
      ],
      "text/plain": [
       "  match_id                                        series_name  \\\n",
       "0   131119                Netherlands tour of Bangladesh 2025   \n",
       "1   122962                   Sri Lanka tour of Zimbabwe, 2025   \n",
       "2   130762                         Kerala Cricket League 2025   \n",
       "3   130756                         Kerala Cricket League 2025   \n",
       "4   132632                  Uttar Pradesh Premier League 2025   \n",
       "5   132621                  Uttar Pradesh Premier League 2025   \n",
       "6   116489           New Zealand A tour of South Africa, 2025   \n",
       "7   131625  ICC Womens T20 World Cup Africa Region Divisio...   \n",
       "8   131614  ICC Womens T20 World Cup Africa Region Divisio...   \n",
       "9   131609  ICC Womens T20 World Cup Africa Region Divisio...   \n",
       "\n",
       "                     team1                  team2  \\\n",
       "0               Bangladesh            Netherlands   \n",
       "1                 Zimbabwe              Sri Lanka   \n",
       "2     Aries Kollam Sailors      Kochi Blue Tigers   \n",
       "3  Adani Trivandrum Royals       Alleppey Ripples   \n",
       "4          Lucknow Falcons  Gaur Gorakhapur Lions   \n",
       "5             Kashi Rudras       Meerut Mavericks   \n",
       "6           South Africa A          New Zealand A   \n",
       "7            Nigeria Women         Zimbabwe Women   \n",
       "8              Kenya Women           Uganda Women   \n",
       "9            Namibia Women     Sierra Leone Women   \n",
       "\n",
       "                                    status  \n",
       "0                          Rain stops play  \n",
       "1                  Sri Lanka won by 4 wkts  \n",
       "2                            Innings Break  \n",
       "3  Adani Trivandrum Royals won by 110 runs  \n",
       "4               Lucknow Falcons opt to bat  \n",
       "5               Kashi Rudras won by 5 runs  \n",
       "6   New Zealand A need 98 runs in 91 balls  \n",
       "7                 Nigeria Women opt to bat  \n",
       "8                 Uganda Women opt to bowl  \n",
       "9            Namibia Women won by 152 runs  "
      ]
     },
     "execution_count": 4,
     "metadata": {},
     "output_type": "execute_result"
    }
   ],
   "source": [
    "# Preview rows\n",
    "with get_conn() as conn:\n",
    "    df = pd.read_sql_query(\"SELECT * FROM live_matches LIMIT 10\", conn)\n",
    "df"
   ]
  },
  {
   "cell_type": "markdown",
   "id": "bd59c6cc-ee8f-4db4-be7b-1132e6a9e7c5",
   "metadata": {},
   "source": [
    "#### Create the new tables (for full scorecard)\n",
    "\n",
    "This prepares the database for team scores & player stats we’ll fetch next.\n",
    "\n",
    "#### — Create match_score and player_stats"
   ]
  },
  {
   "cell_type": "code",
   "execution_count": 5,
   "id": "dce4b499-feb5-4c0f-8416-27392bb462a8",
   "metadata": {},
   "outputs": [
    {
     "name": "stdout",
     "output_type": "stream",
     "text": [
      "✅ Tables created (if not already).\n"
     ]
    }
   ],
   "source": [
    "with get_conn() as conn:\n",
    "    conn.execute(\"\"\"\n",
    "    CREATE TABLE IF NOT EXISTS match_score (\n",
    "        match_id TEXT,\n",
    "        team_name TEXT,\n",
    "        runs INTEGER,\n",
    "        wickets INTEGER,\n",
    "        overs TEXT,\n",
    "        target TEXT,\n",
    "        status TEXT\n",
    "    )\n",
    "    \"\"\")\n",
    "    conn.execute(\"\"\"\n",
    "    CREATE TABLE IF NOT EXISTS player_stats (\n",
    "        match_id TEXT,\n",
    "        player_name TEXT,\n",
    "        team_name TEXT,\n",
    "        role TEXT,\n",
    "        runs INTEGER,\n",
    "        balls INTEGER,\n",
    "        wickets INTEGER,\n",
    "        overs TEXT,\n",
    "        economy REAL\n",
    "    )\n",
    "    \"\"\")\n",
    "    conn.commit()\n",
    "\n",
    "print(\"✅ Tables created (if not already).\")"
   ]
  },
  {
   "cell_type": "code",
   "execution_count": 6,
   "id": "8c49e3d8-2b9a-45f0-92de-0dfac84fbdf5",
   "metadata": {},
   "outputs": [
    {
     "data": {
      "text/plain": [
       "[('live_matches',), ('match_score',), ('player_stats',)]"
      ]
     },
     "execution_count": 6,
     "metadata": {},
     "output_type": "execute_result"
    }
   ],
   "source": [
    "# Confirm the new tables exist\n",
    "with get_conn() as conn:\n",
    "    tables = conn.execute(\"SELECT name FROM sqlite_master WHERE type='table'\").fetchall()\n",
    "tables"
   ]
  },
  {
   "cell_type": "code",
   "execution_count": 7,
   "id": "78fed274-6506-469f-b365-ee0af60ea20d",
   "metadata": {},
   "outputs": [],
   "source": [
    "# Run any SQL you want (helper cell)\n",
    "def run_sql(sql, params=None):\n",
    "    params = params or []\n",
    "    with get_conn() as conn:\n",
    "        try:\n",
    "            if sql.strip().lower().startswith(\"select\"):\n",
    "                df = pd.read_sql_query(sql, conn, params=params)\n",
    "                return df\n",
    "            else:\n",
    "                cur = conn.execute(sql, params)\n",
    "                conn.commit()\n",
    "                return f\"Done. Rows affected: {cur.rowcount}\"\n",
    "        except Exception as e:\n",
    "            return f\"SQL error: {e}\""
   ]
  },
  {
   "cell_type": "code",
   "execution_count": 8,
   "id": "6f32761c-d6fc-4441-a34d-75211a246b83",
   "metadata": {},
   "outputs": [
    {
     "data": {
      "text/html": [
       "<div>\n",
       "<style scoped>\n",
       "    .dataframe tbody tr th:only-of-type {\n",
       "        vertical-align: middle;\n",
       "    }\n",
       "\n",
       "    .dataframe tbody tr th {\n",
       "        vertical-align: top;\n",
       "    }\n",
       "\n",
       "    .dataframe thead th {\n",
       "        text-align: right;\n",
       "    }\n",
       "</style>\n",
       "<table border=\"1\" class=\"dataframe\">\n",
       "  <thead>\n",
       "    <tr style=\"text-align: right;\">\n",
       "      <th></th>\n",
       "      <th>match_id</th>\n",
       "      <th>series_name</th>\n",
       "      <th>team1</th>\n",
       "      <th>team2</th>\n",
       "      <th>status</th>\n",
       "    </tr>\n",
       "  </thead>\n",
       "  <tbody>\n",
       "    <tr>\n",
       "      <th>0</th>\n",
       "      <td>131119</td>\n",
       "      <td>Netherlands tour of Bangladesh 2025</td>\n",
       "      <td>Bangladesh</td>\n",
       "      <td>Netherlands</td>\n",
       "      <td>Rain stops play</td>\n",
       "    </tr>\n",
       "    <tr>\n",
       "      <th>1</th>\n",
       "      <td>122962</td>\n",
       "      <td>Sri Lanka tour of Zimbabwe, 2025</td>\n",
       "      <td>Zimbabwe</td>\n",
       "      <td>Sri Lanka</td>\n",
       "      <td>Sri Lanka won by 4 wkts</td>\n",
       "    </tr>\n",
       "    <tr>\n",
       "      <th>2</th>\n",
       "      <td>130762</td>\n",
       "      <td>Kerala Cricket League 2025</td>\n",
       "      <td>Aries Kollam Sailors</td>\n",
       "      <td>Kochi Blue Tigers</td>\n",
       "      <td>Innings Break</td>\n",
       "    </tr>\n",
       "    <tr>\n",
       "      <th>3</th>\n",
       "      <td>130756</td>\n",
       "      <td>Kerala Cricket League 2025</td>\n",
       "      <td>Adani Trivandrum Royals</td>\n",
       "      <td>Alleppey Ripples</td>\n",
       "      <td>Adani Trivandrum Royals won by 110 runs</td>\n",
       "    </tr>\n",
       "    <tr>\n",
       "      <th>4</th>\n",
       "      <td>132632</td>\n",
       "      <td>Uttar Pradesh Premier League 2025</td>\n",
       "      <td>Lucknow Falcons</td>\n",
       "      <td>Gaur Gorakhapur Lions</td>\n",
       "      <td>Lucknow Falcons opt to bat</td>\n",
       "    </tr>\n",
       "  </tbody>\n",
       "</table>\n",
       "</div>"
      ],
      "text/plain": [
       "  match_id                          series_name                    team1  \\\n",
       "0   131119  Netherlands tour of Bangladesh 2025               Bangladesh   \n",
       "1   122962     Sri Lanka tour of Zimbabwe, 2025                 Zimbabwe   \n",
       "2   130762           Kerala Cricket League 2025     Aries Kollam Sailors   \n",
       "3   130756           Kerala Cricket League 2025  Adani Trivandrum Royals   \n",
       "4   132632    Uttar Pradesh Premier League 2025          Lucknow Falcons   \n",
       "\n",
       "                   team2                                   status  \n",
       "0            Netherlands                          Rain stops play  \n",
       "1              Sri Lanka                  Sri Lanka won by 4 wkts  \n",
       "2      Kochi Blue Tigers                            Innings Break  \n",
       "3       Alleppey Ripples  Adani Trivandrum Royals won by 110 runs  \n",
       "4  Gaur Gorakhapur Lions               Lucknow Falcons opt to bat  "
      ]
     },
     "execution_count": 8,
     "metadata": {},
     "output_type": "execute_result"
    }
   ],
   "source": [
    "run_sql(\"SELECT * FROM live_matches LIMIT 5\")"
   ]
  },
  {
   "cell_type": "code",
   "execution_count": null,
   "id": "f4b9c3f9-4d56-44cd-8393-32a38606d0ef",
   "metadata": {},
   "outputs": [],
   "source": [
    "\n"
   ]
  }
 ],
 "metadata": {
  "kernelspec": {
   "display_name": "Python 3 (ipykernel)",
   "language": "python",
   "name": "python3"
  },
  "language_info": {
   "codemirror_mode": {
    "name": "ipython",
    "version": 3
   },
   "file_extension": ".py",
   "mimetype": "text/x-python",
   "name": "python",
   "nbconvert_exporter": "python",
   "pygments_lexer": "ipython3",
   "version": "3.12.7"
  }
 },
 "nbformat": 4,
 "nbformat_minor": 5
}
