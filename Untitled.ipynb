{
 "cells": [
  {
   "cell_type": "code",
   "execution_count": 1,
   "id": "4ef07088-9fe7-42ef-8ec2-1f1068d71013",
   "metadata": {},
   "outputs": [
    {
     "name": "stdout",
     "output_type": "stream",
     "text": [
      "live_matches\n"
     ]
    }
   ],
   "source": [
    "import sqlite3, os\n",
    "\n",
    "db = os.path.abspath(\"cricbuzz.db\")\n",
    "conn = sqlite3.connect(db)\n",
    "\n",
    "tables = conn.execute(\"SELECT name FROM sqlite_master WHERE type='table'\").fetchall()\n",
    "for t in tables:\n",
    "    print(t[0])"
   ]
  },
  {
   "cell_type": "code",
   "execution_count": 2,
   "id": "86f3ece4-ebba-4615-bb8c-e10ec3e53af0",
   "metadata": {},
   "outputs": [
    {
     "name": "stdout",
     "output_type": "stream",
     "text": [
      "(0, 'match_id', 'TEXT', 0, None, 1)\n",
      "(1, 'series_name', 'TEXT', 0, None, 0)\n",
      "(2, 'team1', 'TEXT', 0, None, 0)\n",
      "(3, 'team2', 'TEXT', 0, None, 0)\n",
      "(4, 'status', 'TEXT', 0, None, 0)\n"
     ]
    }
   ],
   "source": [
    "import sqlite3, os\n",
    "\n",
    "db = os.path.abspath(\"cricbuzz.db\")\n",
    "conn = sqlite3.connect(db)\n",
    "\n",
    "# Show table schema\n",
    "schema = conn.execute(\"PRAGMA table_info(live_matches)\").fetchall()\n",
    "for col in schema:\n",
    "    print(col)"
   ]
  },
  {
   "cell_type": "code",
   "execution_count": null,
   "id": "9a1e5b40-eec6-4321-b3e7-cd15930fabd1",
   "metadata": {},
   "outputs": [],
   "source": []
  }
 ],
 "metadata": {
  "kernelspec": {
   "display_name": "Python 3 (ipykernel)",
   "language": "python",
   "name": "python3"
  },
  "language_info": {
   "codemirror_mode": {
    "name": "ipython",
    "version": 3
   },
   "file_extension": ".py",
   "mimetype": "text/x-python",
   "name": "python",
   "nbconvert_exporter": "python",
   "pygments_lexer": "ipython3",
   "version": "3.12.7"
  }
 },
 "nbformat": 4,
 "nbformat_minor": 5
}
